{
  "cells": [
    {
      "cell_type": "markdown",
      "metadata": {
        "id": "DblbGB3twJGQ"
      },
      "source": [
        "# Gemini Sentiment Analysis Agent Demo\n"
      ]
    },
    {
      "cell_type": "markdown",
      "metadata": {
        "id": "bLPpwWCcxgRG"
      },
      "source": [
        "### Get API keys\n",
        "\n",
        "Before you can use the Gemini API, you must first obtain an API key. If you don't already have one, create a key with one click in [Google AI Studio](https://makersuite.google.com/app/apikey).  You'll also need an [OpenAI API key](https://openai.com/).\n",
        "\n",
        "Once you have your API keys create the following Google Colab \"secrets\"\n",
        "`GOOGLE_API_KEY` and `OPENAI_API_KEY` which will contain your respective keys."
      ]
    },
    {
      "cell_type": "markdown",
      "metadata": {
        "id": "AWxOoB_tncv_"
      },
      "source": [
        "## Initial Setup"
      ]
    },
    {
      "cell_type": "code",
      "execution_count": 1,
      "metadata": {
        "id": "81Mlx-E8m93K"
      },
      "outputs": [],
      "source": [
        "!pip install llama-index google-generativeai openai pypdf -q"
      ]
    },
    {
      "cell_type": "code",
      "execution_count": 5,
      "metadata": {},
      "outputs": [],
      "source": [
        "!pip install ipywidgets -q"
      ]
    },
    {
      "cell_type": "code",
      "execution_count": 4,
      "metadata": {},
      "outputs": [],
      "source": [
        "!pip install trulens_eval -q"
      ]
    },
    {
      "cell_type": "code",
      "execution_count": 6,
      "metadata": {
        "id": "y6dqUiOdniTf"
      },
      "outputs": [],
      "source": [
        "import os\n",
        "import openai\n",
        "\n",
        "openai.api_key = os.environ.get('OPENAI_API_KEY')"
      ]
    },
    {
      "cell_type": "code",
      "execution_count": 7,
      "metadata": {
        "id": "-sthewGLnj6Q"
      },
      "outputs": [],
      "source": [
        "import logging\n",
        "import sys\n",
        "\n",
        "logging.basicConfig(stream=sys.stdout, level=logging.INFO, force=True)\n",
        "logging.getLogger().addHandler(logging.StreamHandler(stream=sys.stdout))"
      ]
    },
    {
      "cell_type": "markdown",
      "metadata": {},
      "source": [
        "### Import from LlamaIndex and TruLens"
      ]
    },
    {
      "cell_type": "code",
      "execution_count": 8,
      "metadata": {},
      "outputs": [
        {
          "name": "stdout",
          "output_type": "stream",
          "text": [
            "🦑 Tru initialized with db url sqlite:///default.sqlite .\n",
            "🛑 Secret keys may be written to the database. See the `database_redact_keys` option of `Tru` to prevent this.\n"
          ]
        }
      ],
      "source": [
        "# from trulens_eval import Feedback, Tru, TruLlama\n",
        "# from trulens_eval.feedback import Groundedness\n",
        "# from trulens_eval.feedback.provider.openai import OpenAI\n",
        "\n",
        "# tru = Tru()"
      ]
    },
    {
      "cell_type": "markdown",
      "metadata": {
        "id": "T2QlbEhiOHW-"
      },
      "source": [
        "### Vectorize Mindfulness Guides"
      ]
    },
    {
      "cell_type": "code",
      "execution_count": 9,
      "metadata": {
        "id": "emt6mmU2WIhQ"
      },
      "outputs": [
        {
          "name": "stdout",
          "output_type": "stream",
          "text": [
            "INFO:llama_index.indices.loading:Loading all indices.\n",
            "Loading all indices.\n",
            "INFO:llama_index.indices.loading:Loading all indices.\n",
            "Loading all indices.\n",
            "INFO:llama_index.indices.loading:Loading all indices.\n",
            "Loading all indices.\n"
          ]
        }
      ],
      "source": [
        "import os.path\n",
        "from llama_index import (\n",
        "  VectorStoreIndex,\n",
        "  SimpleDirectoryReader,\n",
        "  StorageContext,\n",
        "  load_index_from_storage,\n",
        "  )\n",
        "\n",
        "# Attempt to load embeddings\n",
        "try:\n",
        "  storage_context = StorageContext.from_defaults(\n",
        "      persist_dir=\"./storage/challenging_child\"\n",
        "  )\n",
        "  challenging_child_index = load_index_from_storage(storage_context)\n",
        "\n",
        "  storage_context = StorageContext.from_defaults(\n",
        "      persist_dir=\"./storage/mindfulness_TB_50\"\n",
        "  )\n",
        "  mindfulness_TB_50_index = load_index_from_storage(storage_context)\n",
        "\n",
        "  storage_context = StorageContext.from_defaults(\n",
        "      persist_dir=\"./storage/mindfulness_TB_relationships\"\n",
        "  )\n",
        "  mindfulness_TB_relationships_index = load_index_from_storage(storage_context)\n",
        "except:\n",
        "  # Need to generate embeddings\n",
        "  challenging_child_docs = SimpleDirectoryReader(\n",
        "      input_files=[\"./data/The_Challenging_Child_Toolbox.pdf\"]\n",
        "  ).load_data(show_progress=True)\n",
        "  mindfulness_TB_50_docs = SimpleDirectoryReader(\n",
        "      input_files=[\"./data/The_Mindfulness_Toolbox__50_Practical_Tips_Tools.pdf\"]\n",
        "  ).load_data(show_progress=True)\n",
        "  mindfulness_TB_relationships_docs = SimpleDirectoryReader(\n",
        "      input_files=[\"./data/The_Mindfulness_Toolbox_for_Relationships.pdf\"]\n",
        "  ).load_data(show_progress=True)\n",
        "\n",
        "  # Build index\n",
        "  challenging_child_index = VectorStoreIndex.from_documents(challenging_child_docs)\n",
        "  mindfulness_TB_50_index = VectorStoreIndex.from_documents(mindfulness_TB_50_docs)\n",
        "  mindfulness_TB_relationships_index = VectorStoreIndex.from_documents(mindfulness_TB_relationships_docs)\n",
        "\n",
        "  # Persist\n",
        "  challenging_child_index.storage_context.persist(persist_dir=\"./storage/challenging_child\")\n",
        "  mindfulness_TB_50_index.storage_context.persist(\"./storage/mindfulness_TB_50\")\n",
        "  mindfulness_TB_relationships_index.storage_context.persist(persist_dir=\"./storage/mindfulness_TB_relationships\")"
      ]
    },
    {
      "cell_type": "code",
      "execution_count": 10,
      "metadata": {
        "id": "CQOjWMl2X0t-"
      },
      "outputs": [],
      "source": [
        "challenging_child_engine = challenging_child_index.as_query_engine()\n",
        "mindfulness_TB_50_engine = mindfulness_TB_50_index.as_query_engine()\n",
        "mindfulness_TB_relationships_engine = mindfulness_TB_relationships_index.as_query_engine()"
      ]
    },
    {
      "cell_type": "markdown",
      "metadata": {
        "id": "aZwcWP9wS8QZ"
      },
      "source": [
        "### Test to make sure our data loaded"
      ]
    },
    {
      "cell_type": "code",
      "execution_count": 11,
      "metadata": {
        "id": "PpNMYU4mhj4G"
      },
      "outputs": [],
      "source": [
        "from IPython.display import Markdown"
      ]
    },
    {
      "cell_type": "code",
      "execution_count": 12,
      "metadata": {
        "colab": {
          "base_uri": "https://localhost:8080/",
          "height": 161
        },
        "id": "dtGSbX93f7NC",
        "outputId": "67afd91b-e36d-4abf-cfc4-ecfb5ca61b9c"
      },
      "outputs": [
        {
          "name": "stdout",
          "output_type": "stream",
          "text": [
            "INFO:httpx:HTTP Request: POST https://api.openai.com/v1/embeddings \"HTTP/1.1 200 OK\"\n",
            "HTTP Request: POST https://api.openai.com/v1/embeddings \"HTTP/1.1 200 OK\"\n",
            "INFO:httpx:HTTP Request: POST https://api.openai.com/v1/chat/completions \"HTTP/1.1 200 OK\"\n",
            "HTTP Request: POST https://api.openai.com/v1/chat/completions \"HTTP/1.1 200 OK\"\n"
          ]
        },
        {
          "data": {
            "text/markdown": [
              "**Response:**\n",
              "\n",
              "A challenging child refers to a child who has emotional and behavioral difficulties. They may require additional support and intervention to address their challenges and help them meet new, higher standards for their actions in daily life."
            ],
            "text/plain": [
              "<IPython.core.display.Markdown object>"
            ]
          },
          "metadata": {},
          "output_type": "display_data"
        }
      ],
      "source": [
        "# The_Challenging_Child_Toolbox\n",
        "query_engine = challenging_child_index.as_query_engine()\n",
        "response = query_engine.query(\"What is the definition of a challenging child?\")\n",
        "display(Markdown(f\"**Response:**\\n\\n{response}\"))"
      ]
    },
    {
      "cell_type": "code",
      "execution_count": 13,
      "metadata": {
        "colab": {
          "base_uri": "https://localhost:8080/",
          "height": 213
        },
        "id": "MnRhG-npgf0h",
        "outputId": "dc25f0ea-b85d-49f8-fbd8-06c1f0fad41d"
      },
      "outputs": [
        {
          "name": "stdout",
          "output_type": "stream",
          "text": [
            "INFO:httpx:HTTP Request: POST https://api.openai.com/v1/embeddings \"HTTP/1.1 200 OK\"\n",
            "HTTP Request: POST https://api.openai.com/v1/embeddings \"HTTP/1.1 200 OK\"\n",
            "INFO:httpx:HTTP Request: POST https://api.openai.com/v1/chat/completions \"HTTP/1.1 200 OK\"\n",
            "HTTP Request: POST https://api.openai.com/v1/chat/completions \"HTTP/1.1 200 OK\"\n"
          ]
        },
        {
          "data": {
            "text/markdown": [
              "**Response:**\n",
              "\n",
              "Mindfulness practice has several benefits. It enhances flexibility and adaptability, allowing individuals to break free from old habits and retrain their brain. It cultivates curiosity and greater ease, encouraging exploration of the journey and process rather than being overly focused on the outcome. Mindfulness also changes one's relationship to self-critical and self-blaming thoughts, promoting greater patience, kindness, acceptance, and hospitality towards oneself and others. Additionally, mindfulness encourages greater fulfillment in daily life by focusing on the present moment, reducing rumination and negative thoughts, as well as anxiety about the future."
            ],
            "text/plain": [
              "<IPython.core.display.Markdown object>"
            ]
          },
          "metadata": {},
          "output_type": "display_data"
        }
      ],
      "source": [
        "# The_Mindfulness_Toolbox__50_Practical_Tips_Tools\n",
        "query_engine = mindfulness_TB_50_index.as_query_engine()\n",
        "response = query_engine.query(\"What are the benefits of a mindfulness practice?\")\n",
        "display(Markdown(f\"**Response:**\\n\\n{response}\"))"
      ]
    },
    {
      "cell_type": "code",
      "execution_count": 14,
      "metadata": {
        "colab": {
          "base_uri": "https://localhost:8080/",
          "height": 213
        },
        "id": "diBQOjNpg98W",
        "outputId": "8cc0e329-19c0-43d8-f5e1-20af32172132"
      },
      "outputs": [
        {
          "name": "stdout",
          "output_type": "stream",
          "text": [
            "INFO:httpx:HTTP Request: POST https://api.openai.com/v1/embeddings \"HTTP/1.1 200 OK\"\n",
            "HTTP Request: POST https://api.openai.com/v1/embeddings \"HTTP/1.1 200 OK\"\n",
            "INFO:httpx:HTTP Request: POST https://api.openai.com/v1/chat/completions \"HTTP/1.1 200 OK\"\n",
            "HTTP Request: POST https://api.openai.com/v1/chat/completions \"HTTP/1.1 200 OK\"\n"
          ]
        },
        {
          "data": {
            "text/markdown": [
              "**Response:**\n",
              "\n",
              "Mindfulness relates to relationships by engaging a sense of curiosity and openness, which helps individuals escape the limited perspective of the ego. It allows individuals to experience others, even difficult people, in a new way. Mindfulness also helps individuals break free from old habits and toxic ways of reacting in relationships. By cultivating awareness, compassion, and openness, mindfulness provides practical tools for addressing issues that impact daily living and the stresses of the real world. It can uplift and inspire individuals and their relationships, especially in the face of new challenges brought about by technology and social media."
            ],
            "text/plain": [
              "<IPython.core.display.Markdown object>"
            ]
          },
          "metadata": {},
          "output_type": "display_data"
        }
      ],
      "source": [
        "# The_Mindfulness_Toolbox_for_Relationships\n",
        "query_engine = mindfulness_TB_relationships_index.as_query_engine()\n",
        "response = query_engine.query(\"How does mindfulness relate to relationships?\")\n",
        "display(Markdown(f\"**Response:**\\n\\n{response}\"))"
      ]
    },
    {
      "cell_type": "markdown",
      "metadata": {
        "id": "csBNMULgnwGq"
      },
      "source": [
        "## Define Agent Tools"
      ]
    },
    {
      "cell_type": "markdown",
      "metadata": {
        "id": "FVTpWj0gvbwJ"
      },
      "source": [
        "### Analyze image tool"
      ]
    },
    {
      "cell_type": "code",
      "execution_count": 15,
      "metadata": {
        "id": "g4TD2aKDPycm"
      },
      "outputs": [],
      "source": [
        "from llama_index.tools import BaseTool, FunctionTool\n",
        "from llama_index.multi_modal_llms.gemini import GeminiMultiModal\n",
        "from llama_index.multi_modal_llms.generic_utils import load_image_urls\n",
        "from typing import List"
      ]
    },
    {
      "cell_type": "code",
      "execution_count": 16,
      "metadata": {
        "id": "H4Ei7yzdn3Th"
      },
      "outputs": [],
      "source": [
        "def analyze_image(img_urls: List[str]) -> str:\n",
        "  \"\"\"Calls our Gemini vision API to analyze the image and return a description of the text contained in the image.\n",
        "      Returns: A string with a description of the image and the mood it conveys if any.\n",
        "\n",
        "  Args:\n",
        "      img_urls (List[str]): The URL of one or more images that convey the users mood\n",
        "  \"\"\"\n",
        "  image_documents = load_image_urls(img_urls)\n",
        "\n",
        "  gemini = GeminiMultiModal(model=\"models/gemini-pro-vision\", api_key=os.environ.get('GOOGLE_API_KEY'))\n",
        "\n",
        "  complete_response = gemini.complete(\n",
        "      prompt=\"Identify what you see in the image and what mood it conveys if any\",\n",
        "      image_documents=image_documents,\n",
        "  )\n",
        "\n",
        "  return complete_response\n",
        "\n",
        "vision_tool = FunctionTool.from_defaults(fn=analyze_image)"
      ]
    },
    {
      "cell_type": "markdown",
      "metadata": {
        "id": "UTwpvzQnP4wn"
      },
      "source": [
        "### Mindfulness routine recomendation tool"
      ]
    },
    {
      "cell_type": "code",
      "execution_count": 17,
      "metadata": {
        "id": "T64SZPMRX3mN"
      },
      "outputs": [],
      "source": [
        "from llama_index.tools import QueryEngineTool, ToolMetadata\n",
        "\n",
        "query_engine_tools = [\n",
        "    QueryEngineTool(\n",
        "        query_engine=challenging_child_engine,\n",
        "        metadata=ToolMetadata(\n",
        "            name=\"challenging_child\",\n",
        "            description=(\n",
        "                \"The Challenging Child Toolbox 75 Mindfulness Based Practices Tools and Tips for Therapists\"\n",
        "                \"Use a detailed plain text question as input to the tool.\"\n",
        "            ),\n",
        "        ),\n",
        "    ),\n",
        "    QueryEngineTool(\n",
        "        query_engine=mindfulness_TB_50_engine,\n",
        "        metadata=ToolMetadata(\n",
        "            name=\"mindfulness_TB_50\",\n",
        "            description=(\n",
        "                \"The Mindfulness Toolbox 50 Practical Tips Tools Handouts for Anxiety Depression Stress and Pain\"\n",
        "                \"Use a detailed plain text question as input to the tool.\"\n",
        "            ),\n",
        "        ),\n",
        "    ),\n",
        "    QueryEngineTool(\n",
        "        query_engine=mindfulness_TB_relationships_engine,\n",
        "        metadata=ToolMetadata(\n",
        "            name=\"mindfulness_TB_relationships\",\n",
        "            description=(\n",
        "                \"The Mindfulness Toolbox for Relationships 50 Practical Tips Tools Handouts for Building Compassionate Connections\"\n",
        "                \"Use a detailed plain text question as input to the tool.\"\n",
        "            ),\n",
        "        ),\n",
        "    ),\n",
        "]"
      ]
    },
    {
      "cell_type": "code",
      "execution_count": 18,
      "metadata": {
        "id": "9a8fSQLRcECy"
      },
      "outputs": [],
      "source": [
        "tools = query_engine_tools + [vision_tool]"
      ]
    },
    {
      "cell_type": "markdown",
      "metadata": {
        "id": "YhI-waLZcDy1"
      },
      "source": []
    },
    {
      "cell_type": "markdown",
      "metadata": {
        "id": "GhKWmAL4vou-"
      },
      "source": [
        "## Create LlamaIndex Agent"
      ]
    },
    {
      "cell_type": "markdown",
      "metadata": {
        "id": "RIJj4kQ1vuhk"
      },
      "source": [
        "### System prompt to give our agent some personality"
      ]
    },
    {
      "cell_type": "code",
      "execution_count": 19,
      "metadata": {
        "id": "BLL3WmhYv0xc"
      },
      "outputs": [],
      "source": [
        "SYSTEM_PROMPT = \"\"\"You are an emotional support assistant with the expertise of an experienced counselor. Your primary role is to assist the user by encouraging them to provide a drawing that conveys their mood.\n",
        "You offer professional, friendly, and helpful guidance based on current counseling and mindfulness practices. Once you receive the image, interpret it to discern what the user might be feeling and confirm with them if your observation is correct.\n",
        "If your interpretation does not align with their feelings, engage in a dialogue until you accurately understand their mood. Your knowledge is exclusively focused on understanding the user's emotions and recommending mindfulness routines using the tool, tailored to their mood.\n",
        "Thus, you will only provide responses related to these areas. If a question falls outside your area of expertise or if you lack the necessary information, you will inform the user by saying,\n",
        "'Sorry, I do not know the answer to your question.' and then prompt for more information related to their feelings. Once they confirm that you have correctly understood their feelings, your task is to recommend a suitable mindfulness routine using the tool.\"\"\""
      ]
    },
    {
      "cell_type": "markdown",
      "metadata": {
        "id": "TwMF84Anv4YB"
      },
      "source": [
        "### Init our agent"
      ]
    },
    {
      "cell_type": "code",
      "execution_count": 20,
      "metadata": {
        "id": "db-7B9CXv7Bc"
      },
      "outputs": [],
      "source": [
        "from llama_index.agent import OpenAIAgent\n",
        "from llama_index.llms import OpenAI\n",
        "\n",
        "llm = OpenAI(model=\"gpt-4-1106-preview\") # Using GPT-4 Turbo (Beta)\n",
        "\n",
        "agent = OpenAIAgent.from_tools(\n",
        "    tools,\n",
        "    llm=llm,\n",
        "    verbose=True,\n",
        "    system_prompt=SYSTEM_PROMPT,\n",
        ")"
      ]
    },
    {
      "cell_type": "markdown",
      "metadata": {
        "id": "y_nLfwGjwDPV"
      },
      "source": [
        "## Test Our Agent"
      ]
    },
    {
      "cell_type": "markdown",
      "metadata": {
        "id": "99sOLlPn6no4"
      },
      "source": [
        "I'm picturing the frontend give the user the option to chat or attach one or more images that would get uploaded to cloud storage.  Then our back could prompt the agent with something like \"Here's a drawing of how I'm feeling {Image URL Here}.\"\n",
        "\n",
        "For the demo below you need to manually paste the image URL into the chat (i.e. https://ih1.redbubble.net/image.3636044620.1142/bg,f8f8f8-flat,750x,075,f-pad,750x1000,f8f8f8.u5.jpg)"
      ]
    },
    {
      "cell_type": "markdown",
      "metadata": {
        "id": "YyuY5bt-8Ono"
      },
      "source": [
        "Single prompt example"
      ]
    },
    {
      "cell_type": "code",
      "execution_count": 30,
      "metadata": {
        "colab": {
          "base_uri": "https://localhost:8080/",
          "height": 162
        },
        "id": "hhaRx6hk72l0",
        "outputId": "83d0e0d0-c650-4582-933d-4a775d922853"
      },
      "outputs": [
        {
          "name": "stdout",
          "output_type": "stream",
          "text": [
            "INFO:httpx:HTTP Request: POST https://api.openai.com/v1/chat/completions \"HTTP/1.1 200 OK\"\n",
            "HTTP Request: POST https://api.openai.com/v1/chat/completions \"HTTP/1.1 200 OK\"\n"
          ]
        },
        {
          "data": {
            "text/markdown": [
              "**Response:**\n",
              "\n",
              "Thank you for asking! As an emotional support assistant, I'm here to focus on you. How are you feeling today? If you'd like, you can express your mood through a drawing and share it with me. I'm here to help you interpret your emotions and provide support."
            ],
            "text/plain": [
              "<IPython.core.display.Markdown object>"
            ]
          },
          "metadata": {},
          "output_type": "display_data"
        }
      ],
      "source": [
        "response = agent.chat('hi')\n",
        "display(Markdown(f\"**Response:**\\n\\n{response}\"))"
      ]
    },
    {
      "cell_type": "markdown",
      "metadata": {
        "id": "yRpcVdr68Sp3"
      },
      "source": [
        "Multi-turn chat example"
      ]
    },
    {
      "cell_type": "code",
      "execution_count": null,
      "metadata": {
        "colab": {
          "base_uri": "https://localhost:8080/",
          "height": 1000
        },
        "id": "bkLhhPGfwFdx",
        "outputId": "f13b7552-bc0b-4b97-ea98-e91ac21c9c24"
      },
      "outputs": [],
      "source": [
        "#response = agent.chat_repl()"
      ]
    },
    {
      "cell_type": "markdown",
      "metadata": {},
      "source": [
        "## Initialize Feedback Function(s)"
      ]
    },
    {
      "cell_type": "code",
      "execution_count": 32,
      "metadata": {},
      "outputs": [
        {
          "name": "stdout",
          "output_type": "stream",
          "text": [
            "✅ In groundedness_measure_with_cot_reasons, input source will be set to __record__.app.query.rets.source_nodes[:].node.text.collect() .\n",
            "✅ In groundedness_measure_with_cot_reasons, input statement will be set to __record__.main_output or `Select.RecordOutput` .\n",
            "✅ In relevance, input prompt will be set to __record__.main_input or `Select.RecordInput` .\n",
            "✅ In relevance, input response will be set to __record__.main_output or `Select.RecordOutput` .\n",
            "✅ In qs_relevance, input question will be set to __record__.main_input or `Select.RecordInput` .\n",
            "✅ In qs_relevance, input statement will be set to __record__.app.query.rets.source_nodes[:].node.text .\n"
          ]
        }
      ],
      "source": [
        "import numpy as np\n",
        "from trulens_eval import Feedback, Tru, TruLlama\n",
        "from trulens_eval.feedback import Groundedness\n",
        "from trulens_eval.feedback.provider.openai import OpenAI\n",
        "\n",
        "tru = Tru()\n",
        "# Initialize provider class\n",
        "openai = OpenAI()\n",
        "\n",
        "grounded = Groundedness(groundedness_provider=OpenAI())\n",
        "\n",
        "# Define a groundedness feedback function\n",
        "f_groundedness = Feedback(grounded.groundedness_measure_with_cot_reasons).on(\n",
        "    TruLlama.select_source_nodes().node.text.collect()\n",
        "    ).on_output(\n",
        "    ).aggregate(grounded.grounded_statements_aggregator)\n",
        "\n",
        "# Question/answer relevance between overall question and answer.\n",
        "f_qa_relevance = Feedback(openai.relevance).on_input_output()\n",
        "\n",
        "# Question/statement relevance between question and each context chunk.\n",
        "f_qs_relevance = Feedback(openai.qs_relevance).on_input().on(\n",
        "    TruLlama.select_source_nodes().node.text\n",
        "    ).aggregate(np.mean)"
      ]
    },
    {
      "cell_type": "markdown",
      "metadata": {},
      "source": [
        "## Instrument app for logging with TruLens"
      ]
    },
    {
      "cell_type": "code",
      "execution_count": 33,
      "metadata": {},
      "outputs": [
        {
          "name": "stdout",
          "output_type": "stream",
          "text": [
            "INFO:alembic.runtime.migration:Context impl SQLiteImpl.\n",
            "Context impl SQLiteImpl.\n",
            "INFO:alembic.runtime.migration:Will assume non-transactional DDL.\n",
            "Will assume non-transactional DDL.\n",
            "INFO:trulens_eval.database.sqlalchemy_db:✅ added app Willow_Alpha\n",
            "✅ added app Willow_Alpha\n",
            "INFO:alembic.runtime.migration:Context impl SQLiteImpl.\n",
            "Context impl SQLiteImpl.\n",
            "INFO:alembic.runtime.migration:Will assume non-transactional DDL.\n",
            "Will assume non-transactional DDL.\n",
            "INFO:trulens_eval.database.sqlalchemy_db:✅ added feedback definition feedback_definition_hash_c5f65150c1406850664cb9bd7ade7b5a\n",
            "✅ added feedback definition feedback_definition_hash_c5f65150c1406850664cb9bd7ade7b5a\n",
            "INFO:alembic.runtime.migration:Context impl SQLiteImpl.\n",
            "Context impl SQLiteImpl.\n",
            "INFO:alembic.runtime.migration:Will assume non-transactional DDL.\n",
            "Will assume non-transactional DDL.\n",
            "INFO:trulens_eval.database.sqlalchemy_db:✅ added feedback definition feedback_definition_hash_13cd2005c708c5e4b448579130725fc8\n",
            "✅ added feedback definition feedback_definition_hash_13cd2005c708c5e4b448579130725fc8\n",
            "INFO:alembic.runtime.migration:Context impl SQLiteImpl.\n",
            "Context impl SQLiteImpl.\n",
            "INFO:alembic.runtime.migration:Will assume non-transactional DDL.\n",
            "Will assume non-transactional DDL.\n",
            "INFO:trulens_eval.database.sqlalchemy_db:✅ added feedback definition feedback_definition_hash_8db0a0dcccc4fa52c59529e91eeaf399\n",
            "✅ added feedback definition feedback_definition_hash_8db0a0dcccc4fa52c59529e91eeaf399\n"
          ]
        }
      ],
      "source": [
        "tru_query_engine_recorder = TruLlama(agent,\n",
        "    app_id='Willow_Alpha',\n",
        "    feedbacks=[f_groundedness, f_qa_relevance, f_qs_relevance])"
      ]
    },
    {
      "cell_type": "markdown",
      "metadata": {},
      "source": [
        "## Explore in a Dashboard"
      ]
    },
    {
      "cell_type": "code",
      "execution_count": 38,
      "metadata": {},
      "outputs": [
        {
          "name": "stdout",
          "output_type": "stream",
          "text": [
            "INFO:httpx:HTTP Request: POST https://api.openai.com/v1/chat/completions \"HTTP/1.1 200 OK\"\n",
            "HTTP Request: POST https://api.openai.com/v1/chat/completions \"HTTP/1.1 200 OK\"\n",
            "WARNING:trulens_eval.app:A new object of type <class 'llama_index.memory.chat_memory_buffer.ChatMemoryBuffer'> at 0x269a5b1d7b0 is calling an instrumented method <function ChatMemoryBuffer.put at 0x0000026997DC6320>. The path of this call may be incorrect.\n",
            "A new object of type <class 'llama_index.memory.chat_memory_buffer.ChatMemoryBuffer'> at 0x269a5b1d7b0 is calling an instrumented method <function ChatMemoryBuffer.put at 0x0000026997DC6320>. The path of this call may be incorrect.\n",
            "WARNING:trulens_eval.app:Guessing path of new object is app.memory based on other object (0x269a3c4d720) using this function.\n",
            "Guessing path of new object is app.memory based on other object (0x269a3c4d720) using this function.\n",
            "=== Calling Function ===\n",
            "Calling function: mindfulness_TB_relationships with args: {\"input\":\"I am having issues with my wife and need mindfulness techniques to help me out.\"}\n",
            "WARNING:trulens_eval.app:A new object of type <class 'llama_index.query_engine.retriever_query_engine.RetrieverQueryEngine'> at 0x2699e8a2c20 is calling an instrumented method <function BaseQueryEngine.query at 0x0000026997DC4940>. The path of this call may be incorrect.\n",
            "A new object of type <class 'llama_index.query_engine.retriever_query_engine.RetrieverQueryEngine'> at 0x2699e8a2c20 is calling an instrumented method <function BaseQueryEngine.query at 0x0000026997DC4940>. The path of this call may be incorrect.\n",
            "WARNING:trulens_eval.app:Guessing path of new object is app based on other object (0x2699e8a2d70) using this function.\n",
            "Guessing path of new object is app based on other object (0x2699e8a2d70) using this function.\n",
            "INFO:httpx:HTTP Request: POST https://api.openai.com/v1/embeddings \"HTTP/1.1 200 OK\"\n",
            "HTTP Request: POST https://api.openai.com/v1/embeddings \"HTTP/1.1 200 OK\"\n",
            "INFO:httpx:HTTP Request: POST https://api.openai.com/v1/chat/completions \"HTTP/1.1 200 OK\"\n",
            "HTTP Request: POST https://api.openai.com/v1/chat/completions \"HTTP/1.1 200 OK\"\n",
            "Got output: You can try practicing mindfulness techniques to help improve your relationship with your wife. Consider teaching practices such as resilience, self-soothing and synchronized breathing, the power of acceptance and patience, and growing your compassion container. These practices can be done together, even holding hands or facing one another while mentally stating affirming words. Additionally, you may find it helpful to write down the S.T.O.P. practice steps and refer to them as needed. Preparation for these practices can be done through the overall Mindfulness Body/Breath/Mind Meditation covered in Tools #12, #13, and #14. You can also bundle this with practices for going off autopilot and being more intentional, such as using affirmations as a relationship GPS and incorporating rituals for coming and going.\n",
            "========================\n",
            "\n",
            "INFO:httpx:HTTP Request: POST https://api.openai.com/v1/chat/completions \"HTTP/1.1 200 OK\"\n",
            "HTTP Request: POST https://api.openai.com/v1/chat/completions \"HTTP/1.1 200 OK\"\n",
            "INFO:alembic.runtime.migration:Context impl SQLiteImpl.\n",
            "Context impl SQLiteImpl.\n",
            "INFO:alembic.runtime.migration:Will assume non-transactional DDL.\n",
            "Will assume non-transactional DDL.\n",
            "INFO:trulens_eval.database.sqlalchemy_db:✅ added record record_hash_924f9898ff392225d711366dcf5da684\n",
            "✅ added record record_hash_924f9898ff392225d711366dcf5da684\n",
            "INFO:alembic.runtime.migration:Context impl SQLiteImpl.\n",
            "Context impl SQLiteImpl.\n",
            "INFO:alembic.runtime.migration:Will assume non-transactional DDL.\n",
            "Will assume non-transactional DDL.\n",
            "WARNING:trulens_eval.utils.serial:Object (of type list) is a sequence containing more than one dictionary. Lookup by item or attribute `rets` is ambiguous. Use a lookup by index(es) or slice first to disambiguate.\n",
            "Object (of type list) is a sequence containing more than one dictionary. Lookup by item or attribute `rets` is ambiguous. Use a lookup by index(es) or slice first to disambiguate.\n",
            "WARNING:trulens_eval.utils.serial:Object (of type list) is a sequence containing more than one dictionary. Lookup by item or attribute `rets` is ambiguous. Use a lookup by index(es) or slice first to disambiguate.\n",
            "Object (of type list) is a sequence containing more than one dictionary. Lookup by item or attribute `rets` is ambiguous. Use a lookup by index(es) or slice first to disambiguate.\n"
          ]
        }
      ],
      "source": [
        "# or as context manager\n",
        "with tru_query_engine_recorder as recording:\n",
        "    agent.query(\"I am having issues with me wife. Can you provide me with some mindfullness techniques that might help me out?\")"
      ]
    },
    {
      "cell_type": "code",
      "execution_count": null,
      "metadata": {},
      "outputs": [
        {
          "name": "stdout",
          "output_type": "stream",
          "text": [
            "Starting dashboard ...\n",
            "Config file already exists. Skipping writing process.\n",
            "Credentials file already exists. Skipping writing process.\n",
            "Dashboard already running at path:   Network URL: http://192.168.0.105:8501\n",
            "\n"
          ]
        },
        {
          "data": {
            "text/plain": [
              "<Popen: returncode: None args: ['streamlit', 'run', '--server.headless=True'...>"
            ]
          },
          "execution_count": 39,
          "metadata": {},
          "output_type": "execute_result"
        },
        {
          "name": "stdout",
          "output_type": "stream",
          "text": [
            "INFO:httpx:HTTP Request: POST https://api.openai.com/v1/chat/completions \"HTTP/1.1 200 OK\"\n",
            "HTTP Request: POST https://api.openai.com/v1/chat/completions \"HTTP/1.1 200 OK\"\n",
            "INFO:alembic.runtime.migration:Context impl SQLiteImpl.\n",
            "Context impl SQLiteImpl.\n",
            "INFO:alembic.runtime.migration:Will assume non-transactional DDL.\n",
            "Will assume non-transactional DDL.\n",
            "INFO:trulens_eval.database.sqlalchemy_db:✅ feedback result relevance DONE feedback_result_hash_8a1bc08d69de7377f352a993c181349b\n",
            "✅ feedback result relevance DONE feedback_result_hash_8a1bc08d69de7377f352a993c181349b\n",
            "INFO:httpx:HTTP Request: POST https://api.openai.com/v1/chat/completions \"HTTP/1.1 200 OK\"\n",
            "HTTP Request: POST https://api.openai.com/v1/chat/completions \"HTTP/1.1 200 OK\"\n",
            "INFO:httpx:HTTP Request: POST https://api.openai.com/v1/chat/completions \"HTTP/1.1 200 OK\"\n",
            "HTTP Request: POST https://api.openai.com/v1/chat/completions \"HTTP/1.1 200 OK\"\n",
            "INFO:alembic.runtime.migration:Context impl SQLiteImpl.\n",
            "Context impl SQLiteImpl.\n",
            "INFO:alembic.runtime.migration:Will assume non-transactional DDL.\n",
            "Will assume non-transactional DDL.\n",
            "INFO:trulens_eval.database.sqlalchemy_db:✅ feedback result qs_relevance DONE feedback_result_hash_288c7e9465ba29f044daf79f3382079b\n",
            "✅ feedback result qs_relevance DONE feedback_result_hash_288c7e9465ba29f044daf79f3382079b\n",
            "INFO:httpx:HTTP Request: POST https://api.openai.com/v1/chat/completions \"HTTP/1.1 200 OK\"\n",
            "HTTP Request: POST https://api.openai.com/v1/chat/completions \"HTTP/1.1 200 OK\"\n",
            "INFO:alembic.runtime.migration:Context impl SQLiteImpl.\n",
            "Context impl SQLiteImpl.\n",
            "INFO:alembic.runtime.migration:Will assume non-transactional DDL.\n",
            "Will assume non-transactional DDL.\n",
            "INFO:trulens_eval.database.sqlalchemy_db:✅ feedback result groundedness_measure_with_cot_reasons DONE feedback_result_hash_884b94be2cbb38a0ec9b56f0dc345da8\n",
            "✅ feedback result groundedness_measure_with_cot_reasons DONE feedback_result_hash_884b94be2cbb38a0ec9b56f0dc345da8\n"
          ]
        }
      ],
      "source": [
        "tru.run_dashboard()"
      ]
    },
    {
      "cell_type": "code",
      "execution_count": null,
      "metadata": {},
      "outputs": [],
      "source": [
        "tru.get_records_and_feedback(app_ids=[])[0] # pass an empty list of app_ids to get all"
      ]
    },
    {
      "cell_type": "markdown",
      "metadata": {
        "id": "bkc8wX4h_RMy"
      },
      "source": [
        "## TODO:"
      ]
    },
    {
      "cell_type": "markdown",
      "metadata": {
        "id": "v5ThlCEJGVJr"
      },
      "source": [
        "### Reset Agent State"
      ]
    },
    {
      "cell_type": "code",
      "execution_count": null,
      "metadata": {
        "id": "dlsyjDjIGX8V"
      },
      "outputs": [],
      "source": [
        "# agent.reset()"
      ]
    },
    {
      "cell_type": "code",
      "execution_count": null,
      "metadata": {
        "id": "gCKcWi2lGb7g"
      },
      "outputs": [],
      "source": [
        "# response = agent.chat_repl()"
      ]
    },
    {
      "cell_type": "markdown",
      "metadata": {
        "id": "K5cQa1zFGiZT"
      },
      "source": [
        "### 2nd Session (Returning User)"
      ]
    },
    {
      "cell_type": "markdown",
      "metadata": {
        "id": "oKZZKYYDGq3Y"
      },
      "source": [
        "Specify chat history with a summary of our last session or sessions.  This would need to be queried from our session history."
      ]
    },
    {
      "cell_type": "code",
      "execution_count": null,
      "metadata": {
        "id": "Qp8s1r2jGpYj"
      },
      "outputs": [],
      "source": [
        "# response = agent.chat_repl()"
      ]
    }
  ],
  "metadata": {
    "colab": {
      "provenance": [],
      "toc_visible": true
    },
    "kernelspec": {
      "display_name": "Python 3",
      "name": "python3"
    },
    "language_info": {
      "codemirror_mode": {
        "name": "ipython",
        "version": 3
      },
      "file_extension": ".py",
      "mimetype": "text/x-python",
      "name": "python",
      "nbconvert_exporter": "python",
      "pygments_lexer": "ipython3",
      "version": "3.10.6"
    }
  },
  "nbformat": 4,
  "nbformat_minor": 0
}
