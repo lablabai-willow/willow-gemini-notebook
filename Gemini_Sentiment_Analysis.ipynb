{
  "nbformat": 4,
  "nbformat_minor": 0,
  "metadata": {
    "colab": {
      "provenance": [],
      "toc_visible": true
    },
    "kernelspec": {
      "name": "python3",
      "display_name": "Python 3"
    },
    "language_info": {
      "name": "python"
    }
  },
  "cells": [
    {
      "cell_type": "markdown",
      "source": [
        "# Gemini Sentiment Analysis Agent Demo\n"
      ],
      "metadata": {
        "id": "DblbGB3twJGQ"
      }
    },
    {
      "cell_type": "markdown",
      "source": [
        "### Get API keys\n",
        "\n",
        "Before you can use the Gemini API, you must first obtain an API key. If you don't already have one, create a key with one click in [Google AI Studio](https://makersuite.google.com/app/apikey).  You'll also need an [OpenAI API key](https://openai.com/).\n",
        "\n",
        "Once you have your API keys create the following Google Colab \"secrets\"\n",
        "`GOOGLE_API_KEY` and `OPENAI_API_KEY` which will contain your respective keys."
      ],
      "metadata": {
        "id": "bLPpwWCcxgRG"
      }
    },
    {
      "cell_type": "markdown",
      "source": [
        "## Initial Setup"
      ],
      "metadata": {
        "id": "AWxOoB_tncv_"
      }
    },
    {
      "cell_type": "code",
      "execution_count": null,
      "metadata": {
        "id": "81Mlx-E8m93K"
      },
      "outputs": [],
      "source": [
        "!pip install llama-index google-generativeai openai pypdf -q"
      ]
    },
    {
      "cell_type": "code",
      "source": [
        "import os\n",
        "from google.colab import userdata\n",
        "import openai\n",
        "\n",
        "openai.api_key = userdata.get('OPENAI_API_KEY')"
      ],
      "metadata": {
        "id": "y6dqUiOdniTf"
      },
      "execution_count": 2,
      "outputs": []
    },
    {
      "cell_type": "code",
      "source": [
        "import logging\n",
        "import sys\n",
        "\n",
        "logging.basicConfig(stream=sys.stdout, level=logging.INFO, force=True)\n",
        "logging.getLogger().addHandler(logging.StreamHandler(stream=sys.stdout))"
      ],
      "metadata": {
        "id": "-sthewGLnj6Q"
      },
      "execution_count": 3,
      "outputs": []
    },
    {
      "cell_type": "markdown",
      "source": [
        "### Vectorize Mindfulness Guides"
      ],
      "metadata": {
        "id": "T2QlbEhiOHW-"
      }
    },
    {
      "cell_type": "code",
      "source": [
        "import os.path\n",
        "from llama_index import (\n",
        "  VectorStoreIndex,\n",
        "  SimpleDirectoryReader,\n",
        "  StorageContext,\n",
        "  load_index_from_storage,\n",
        "  )\n",
        "\n",
        "# Attempt to load embeddings\n",
        "try:\n",
        "  storage_context = StorageContext.from_defaults(\n",
        "      persist_dir=\"./storage/challenging_child\"\n",
        "  )\n",
        "  challenging_child_index = load_index_from_storage(storage_context)\n",
        "\n",
        "  storage_context = StorageContext.from_defaults(\n",
        "      persist_dir=\"./storage/mindfulness_TB_50\"\n",
        "  )\n",
        "  mindfulness_TB_50_index = load_index_from_storage(storage_context)\n",
        "\n",
        "  storage_context = StorageContext.from_defaults(\n",
        "      persist_dir=\"./storage/mindfulness_TB_relationships\"\n",
        "  )\n",
        "  mindfulness_TB_relationships_index = load_index_from_storage(storage_context)\n",
        "except:\n",
        "  # Need to generate embeddings\n",
        "  challenging_child_docs = SimpleDirectoryReader(\n",
        "      input_files=[\"./data/The_Challenging_Child_Toolbox.pdf\"]\n",
        "  ).load_data(show_progress=True)\n",
        "  mindfulness_TB_50_docs = SimpleDirectoryReader(\n",
        "      input_files=[\"./data/The_Mindfulness_Toolbox__50_Practical_Tips_Tools.pdf\"]\n",
        "  ).load_data(show_progress=True)\n",
        "  mindfulness_TB_relationships_docs = SimpleDirectoryReader(\n",
        "      input_files=[\"./data/The_Mindfulness_Toolbox_for_Relationships.pdf\"]\n",
        "  ).load_data(show_progress=True)\n",
        "\n",
        "  # Build index\n",
        "  challenging_child_index = VectorStoreIndex.from_documents(challenging_child_docs)\n",
        "  mindfulness_TB_50_index = VectorStoreIndex.from_documents(mindfulness_TB_50_docs)\n",
        "  mindfulness_TB_relationships_index = VectorStoreIndex.from_documents(mindfulness_TB_relationships_docs)\n",
        "\n",
        "  # Persist\n",
        "  challenging_child_index.storage_context.persist(persist_dir=\"./storage/challenging_child\")\n",
        "  mindfulness_TB_50_index.storage_context.persist(\"./storage/mindfulness_TB_50\")\n",
        "  mindfulness_TB_relationships_index.storage_context.persist(persist_dir=\"./storage/mindfulness_TB_relationships\")"
      ],
      "metadata": {
        "id": "emt6mmU2WIhQ"
      },
      "execution_count": null,
      "outputs": []
    },
    {
      "cell_type": "code",
      "source": [
        "challenging_child_engine = challenging_child_index.as_query_engine()\n",
        "mindfulness_TB_50_engine = mindfulness_TB_50_index.as_query_engine()\n",
        "mindfulness_TB_relationships_engine = mindfulness_TB_relationships_index.as_query_engine()"
      ],
      "metadata": {
        "id": "CQOjWMl2X0t-"
      },
      "execution_count": 5,
      "outputs": []
    },
    {
      "cell_type": "markdown",
      "source": [
        "### Test to make sure our data loaded"
      ],
      "metadata": {
        "id": "aZwcWP9wS8QZ"
      }
    },
    {
      "cell_type": "code",
      "source": [
        "from IPython.display import Markdown"
      ],
      "metadata": {
        "id": "PpNMYU4mhj4G"
      },
      "execution_count": 6,
      "outputs": []
    },
    {
      "cell_type": "code",
      "source": [
        "# The_Challenging_Child_Toolbox\n",
        "query_engine = challenging_child_index.as_query_engine()\n",
        "response = query_engine.query(\"What is the definition of a challenging child?\")\n",
        "display(Markdown(f\"**Response:**\\n\\n{response}\"))"
      ],
      "metadata": {
        "id": "dtGSbX93f7NC",
        "colab": {
          "base_uri": "https://localhost:8080/",
          "height": 161
        },
        "outputId": "67afd91b-e36d-4abf-cfc4-ecfb5ca61b9c"
      },
      "execution_count": 7,
      "outputs": [
        {
          "output_type": "stream",
          "name": "stdout",
          "text": [
            "INFO:httpx:HTTP Request: POST https://api.openai.com/v1/embeddings \"HTTP/1.1 200 OK\"\n",
            "HTTP Request: POST https://api.openai.com/v1/embeddings \"HTTP/1.1 200 OK\"\n",
            "INFO:httpx:HTTP Request: POST https://api.openai.com/v1/chat/completions \"HTTP/1.1 200 OK\"\n",
            "HTTP Request: POST https://api.openai.com/v1/chat/completions \"HTTP/1.1 200 OK\"\n"
          ]
        },
        {
          "output_type": "display_data",
          "data": {
            "text/plain": [
              "<IPython.core.display.Markdown object>"
            ],
            "text/markdown": "**Response:**\n\nA challenging child refers to a child who has emotional and behavioral difficulties. These difficulties may require special attention and support from caregivers or professionals working with the child."
          },
          "metadata": {}
        }
      ]
    },
    {
      "cell_type": "code",
      "source": [
        "# The_Mindfulness_Toolbox__50_Practical_Tips_Tools\n",
        "query_engine = mindfulness_TB_50_index.as_query_engine()\n",
        "response = query_engine.query(\"What are the benefits of a mindfulness practice?\")\n",
        "display(Markdown(f\"**Response:**\\n\\n{response}\"))"
      ],
      "metadata": {
        "id": "MnRhG-npgf0h",
        "colab": {
          "base_uri": "https://localhost:8080/",
          "height": 213
        },
        "outputId": "dc25f0ea-b85d-49f8-fbd8-06c1f0fad41d"
      },
      "execution_count": 8,
      "outputs": [
        {
          "output_type": "stream",
          "name": "stdout",
          "text": [
            "INFO:httpx:HTTP Request: POST https://api.openai.com/v1/embeddings \"HTTP/1.1 200 OK\"\n",
            "HTTP Request: POST https://api.openai.com/v1/embeddings \"HTTP/1.1 200 OK\"\n",
            "INFO:httpx:HTTP Request: POST https://api.openai.com/v1/chat/completions \"HTTP/1.1 200 OK\"\n",
            "HTTP Request: POST https://api.openai.com/v1/chat/completions \"HTTP/1.1 200 OK\"\n"
          ]
        },
        {
          "output_type": "display_data",
          "data": {
            "text/plain": [
              "<IPython.core.display.Markdown object>"
            ],
            "text/markdown": "**Response:**\n\nMindfulness practice has several benefits. It enhances flexibility and adaptability, allowing individuals to break free from old habits and retrain their brains. It cultivates curiosity and greater ease, encouraging exploration of the journey and process rather than being overly focused on the outcome. Mindfulness also changes one's relationship to self-critical and self-blaming thoughts, promoting greater patience, kindness, acceptance, and hospitality towards oneself and others. Additionally, mindfulness encourages greater fulfillment in daily life by focusing more on the present moment and reducing rumination, negative thoughts, and anxiety about the future."
          },
          "metadata": {}
        }
      ]
    },
    {
      "cell_type": "code",
      "source": [
        "# The_Mindfulness_Toolbox_for_Relationships\n",
        "query_engine = mindfulness_TB_relationships_index.as_query_engine()\n",
        "response = query_engine.query(\"How does mindfulness relate to relationships?\")\n",
        "display(Markdown(f\"**Response:**\\n\\n{response}\"))"
      ],
      "metadata": {
        "id": "diBQOjNpg98W",
        "colab": {
          "base_uri": "https://localhost:8080/",
          "height": 213
        },
        "outputId": "8cc0e329-19c0-43d8-f5e1-20af32172132"
      },
      "execution_count": 9,
      "outputs": [
        {
          "output_type": "stream",
          "name": "stdout",
          "text": [
            "INFO:httpx:HTTP Request: POST https://api.openai.com/v1/embeddings \"HTTP/1.1 200 OK\"\n",
            "HTTP Request: POST https://api.openai.com/v1/embeddings \"HTTP/1.1 200 OK\"\n",
            "INFO:httpx:HTTP Request: POST https://api.openai.com/v1/chat/completions \"HTTP/1.1 200 OK\"\n",
            "HTTP Request: POST https://api.openai.com/v1/chat/completions \"HTTP/1.1 200 OK\"\n"
          ]
        },
        {
          "output_type": "display_data",
          "data": {
            "text/plain": [
              "<IPython.core.display.Markdown object>"
            ],
            "text/markdown": "**Response:**\n\nMindfulness relates to relationships by engaging a sense of curiosity and openness, which helps individuals escape the ego-centered perspective and view others in a new way. It allows for a profound level of relating to both inner and outer environments. By practicing mindfulness, individuals can bring awareness, compassion, and openness into their relationships, leading to a sense of liberation and freedom from old habits and toxic ways of reacting. Mindfulness also provides practical tools for addressing issues that impact daily living and the stresses of the real world. In the 21st century, with the challenges posed by technology and social media, mindfulness can help counteract the negative effects on relationships and promote empathy and connection."
          },
          "metadata": {}
        }
      ]
    },
    {
      "cell_type": "markdown",
      "source": [
        "## Define Agent Tools"
      ],
      "metadata": {
        "id": "csBNMULgnwGq"
      }
    },
    {
      "cell_type": "markdown",
      "source": [
        "### Analyze image tool"
      ],
      "metadata": {
        "id": "FVTpWj0gvbwJ"
      }
    },
    {
      "cell_type": "code",
      "source": [
        "from llama_index.tools import BaseTool, FunctionTool\n",
        "from llama_index.multi_modal_llms.gemini import GeminiMultiModal\n",
        "from llama_index.multi_modal_llms.generic_utils import load_image_urls\n",
        "from typing import List"
      ],
      "metadata": {
        "id": "g4TD2aKDPycm"
      },
      "execution_count": 10,
      "outputs": []
    },
    {
      "cell_type": "code",
      "source": [
        "def analyze_image(img_urls: List[str]) -> str:\n",
        "  \"\"\"Calls our Gemini vision API to analyze the image and return a description of the text contained in the image.\n",
        "      Returns: A string with a description of the image and the mood it conveys if any.\n",
        "\n",
        "  Args:\n",
        "      img_urls (List[str]): The URL of one or more images that convey the users mood\n",
        "  \"\"\"\n",
        "  image_documents = load_image_urls(img_urls)\n",
        "\n",
        "  gemini = GeminiMultiModal(model=\"models/gemini-pro-vision\", api_key=userdata.get('GOOGLE_API_KEY'))\n",
        "\n",
        "  complete_response = gemini.complete(\n",
        "      prompt=\"Identify what you see in the image and what mood it conveys if any\",\n",
        "      image_documents=image_documents,\n",
        "  )\n",
        "\n",
        "  return complete_response\n",
        "\n",
        "vision_tool = FunctionTool.from_defaults(fn=analyze_image)"
      ],
      "metadata": {
        "id": "H4Ei7yzdn3Th"
      },
      "execution_count": 11,
      "outputs": []
    },
    {
      "cell_type": "markdown",
      "source": [
        "### Mindfulness routine recomendation tool"
      ],
      "metadata": {
        "id": "UTwpvzQnP4wn"
      }
    },
    {
      "cell_type": "code",
      "source": [
        "from llama_index.tools import QueryEngineTool, ToolMetadata\n",
        "\n",
        "query_engine_tools = [\n",
        "    QueryEngineTool(\n",
        "        query_engine=challenging_child_engine,\n",
        "        metadata=ToolMetadata(\n",
        "            name=\"challenging_child\",\n",
        "            description=(\n",
        "                \"The Challenging Child Toolbox 75 Mindfulness Based Practices Tools and Tips for Therapists\"\n",
        "                \"Use a detailed plain text question as input to the tool.\"\n",
        "            ),\n",
        "        ),\n",
        "    ),\n",
        "    QueryEngineTool(\n",
        "        query_engine=mindfulness_TB_50_engine,\n",
        "        metadata=ToolMetadata(\n",
        "            name=\"mindfulness_TB_50\",\n",
        "            description=(\n",
        "                \"The Mindfulness Toolbox 50 Practical Tips Tools Handouts for Anxiety Depression Stress and Pain\"\n",
        "                \"Use a detailed plain text question as input to the tool.\"\n",
        "            ),\n",
        "        ),\n",
        "    ),\n",
        "    QueryEngineTool(\n",
        "        query_engine=mindfulness_TB_relationships_engine,\n",
        "        metadata=ToolMetadata(\n",
        "            name=\"mindfulness_TB_relationships\",\n",
        "            description=(\n",
        "                \"The Mindfulness Toolbox for Relationships 50 Practical Tips Tools Handouts for Building Compassionate Connections\"\n",
        "                \"Use a detailed plain text question as input to the tool.\"\n",
        "            ),\n",
        "        ),\n",
        "    ),\n",
        "]"
      ],
      "metadata": {
        "id": "T64SZPMRX3mN"
      },
      "execution_count": 12,
      "outputs": []
    },
    {
      "cell_type": "code",
      "source": [
        "tools = query_engine_tools + [vision_tool]"
      ],
      "metadata": {
        "id": "9a8fSQLRcECy"
      },
      "execution_count": 13,
      "outputs": []
    },
    {
      "cell_type": "markdown",
      "source": [],
      "metadata": {
        "id": "YhI-waLZcDy1"
      }
    },
    {
      "cell_type": "markdown",
      "source": [
        "## Create LlamaIndex Agent"
      ],
      "metadata": {
        "id": "GhKWmAL4vou-"
      }
    },
    {
      "cell_type": "markdown",
      "source": [
        "### System prompt to give our agent some personality"
      ],
      "metadata": {
        "id": "RIJj4kQ1vuhk"
      }
    },
    {
      "cell_type": "code",
      "source": [
        "SYSTEM_PROMPT = \"\"\"You are an emotional support assistant with the expertise of an experienced counselor. Your primary role is to assist the user by encouraging them to provide a drawing that conveys their mood.\n",
        "You offer professional, friendly, and helpful guidance based on current counseling and mindfulness practices. Once you receive the image, interpret it to discern what the user might be feeling and confirm with them if your observation is correct.\n",
        "If your interpretation does not align with their feelings, engage in a dialogue until you accurately understand their mood. Your knowledge is exclusively focused on understanding the user's emotions and recommending mindfulness routines using the tool, tailored to their mood.\n",
        "Thus, you will only provide responses related to these areas. If a question falls outside your area of expertise or if you lack the necessary information, you will inform the user by saying,\n",
        "'Sorry, I do not know the answer to your question.' and then prompt for more information related to their feelings. Once they confirm that you have correctly understood their feelings, your task is to recommend a suitable mindfulness routine using the tool.\"\"\""
      ],
      "metadata": {
        "id": "BLL3WmhYv0xc"
      },
      "execution_count": 14,
      "outputs": []
    },
    {
      "cell_type": "markdown",
      "source": [
        "### Init our agent"
      ],
      "metadata": {
        "id": "TwMF84Anv4YB"
      }
    },
    {
      "cell_type": "code",
      "source": [
        "from llama_index.agent import OpenAIAgent\n",
        "from llama_index.llms import OpenAI\n",
        "\n",
        "llm = OpenAI(model=\"gpt-4-1106-preview\") # Using GPT-4 Turbo (Beta)\n",
        "\n",
        "agent = OpenAIAgent.from_tools(\n",
        "    tools,\n",
        "    llm=llm,\n",
        "    verbose=True,\n",
        "    system_prompt=SYSTEM_PROMPT,\n",
        ")"
      ],
      "metadata": {
        "id": "db-7B9CXv7Bc"
      },
      "execution_count": 30,
      "outputs": []
    },
    {
      "cell_type": "markdown",
      "source": [
        "## Test Our Agent"
      ],
      "metadata": {
        "id": "y_nLfwGjwDPV"
      }
    },
    {
      "cell_type": "markdown",
      "source": [
        "I'm picturing the frontend give the user the option to chat or attach one or more images that would get uploaded to cloud storage.  Then our back could prompt the agent with something like \"Here's a drawing of how I'm feeling {Image URL Here}.\"\n",
        "\n",
        "For the demo below you need to manually paste the image URL into the chat (i.e. https://ih1.redbubble.net/image.3636044620.1142/bg,f8f8f8-flat,750x,075,f-pad,750x1000,f8f8f8.u5.jpg)"
      ],
      "metadata": {
        "id": "99sOLlPn6no4"
      }
    },
    {
      "cell_type": "markdown",
      "source": [
        "Single prompt example"
      ],
      "metadata": {
        "id": "YyuY5bt-8Ono"
      }
    },
    {
      "cell_type": "code",
      "source": [
        "response = agent.chat('hi')\n",
        "display(Markdown(f\"**Response:**\\n\\n{response}\"))"
      ],
      "metadata": {
        "colab": {
          "base_uri": "https://localhost:8080/",
          "height": 162
        },
        "id": "hhaRx6hk72l0",
        "outputId": "83d0e0d0-c650-4582-933d-4a775d922853"
      },
      "execution_count": 31,
      "outputs": [
        {
          "output_type": "stream",
          "name": "stdout",
          "text": [
            "STARTING TURN 1\n",
            "---------------\n",
            "\n",
            "INFO:httpx:HTTP Request: POST https://api.openai.com/v1/chat/completions \"HTTP/1.1 200 OK\"\n",
            "HTTP Request: POST https://api.openai.com/v1/chat/completions \"HTTP/1.1 200 OK\"\n"
          ]
        },
        {
          "output_type": "display_data",
          "data": {
            "text/plain": [
              "<IPython.core.display.Markdown object>"
            ],
            "text/markdown": "**Response:**\n\nHello! How can I assist you today? If you're feeling up to it, you can share a drawing that conveys your mood, and I'll do my best to understand and support you."
          },
          "metadata": {}
        }
      ]
    },
    {
      "cell_type": "markdown",
      "source": [
        "Multi-turn chat example"
      ],
      "metadata": {
        "id": "yRpcVdr68Sp3"
      }
    },
    {
      "cell_type": "code",
      "source": [
        "response = agent.chat_repl()"
      ],
      "metadata": {
        "id": "bkLhhPGfwFdx",
        "colab": {
          "base_uri": "https://localhost:8080/",
          "height": 1000
        },
        "outputId": "f13b7552-bc0b-4b97-ea98-e91ac21c9c24"
      },
      "execution_count": null,
      "outputs": [
        {
          "output_type": "stream",
          "name": "stdout",
          "text": [
            "===== Entering Chat REPL =====\n",
            "Type \"exit\" to exit.\n",
            "\n",
            "Human: hi\n",
            "STARTING TURN 1\n",
            "---------------\n",
            "\n",
            "INFO:httpx:HTTP Request: POST https://api.openai.com/v1/chat/completions \"HTTP/1.1 200 OK\"\n",
            "HTTP Request: POST https://api.openai.com/v1/chat/completions \"HTTP/1.1 200 OK\"\n",
            "Assistant: Hello! How can I assist you today? If you're feeling up to it, you can share a drawing that conveys your mood, and I'll do my best to understand and support you.\n",
            "\n",
            "Human: https://ih1.redbubble.net/image.3636044620.1142/bg,f8f8f8-flat,750x,075,f-pad,750x1000,f8f8f8.u5.jpg\n",
            "STARTING TURN 1\n",
            "---------------\n",
            "\n",
            "INFO:httpx:HTTP Request: POST https://api.openai.com/v1/chat/completions \"HTTP/1.1 200 OK\"\n",
            "HTTP Request: POST https://api.openai.com/v1/chat/completions \"HTTP/1.1 200 OK\"\n",
            "=== Calling Function ===\n",
            "Calling function: analyze_image with args: {\"img_urls\":[\"https://ih1.redbubble.net/image.3636044620.1142/bg,f8f8f8-flat,750x,075,f-pad,750x1000,f8f8f8.u5.jpg\"]}\n",
            "INFO:tornado.access:200 GET /v1beta/models/gemini-pro-vision?%24alt=json%3Benum-encoding%3Dint (127.0.0.1) 506.53ms\n",
            "200 GET /v1beta/models/gemini-pro-vision?%24alt=json%3Benum-encoding%3Dint (127.0.0.1) 506.53ms\n",
            "Got output:  It is a simple drawing of a person with its arms crossed and its eyes looking down. The person is sitting with its knees drawn up to its chest. The image conveys a feeling of sadness or loneliness.\n",
            "========================\n",
            "\n",
            "INFO:tornado.access:200 POST /v1beta/models/gemini-pro-vision:generateContent?%24alt=json%3Benum-encoding%3Dint (127.0.0.1) 6196.41ms\n",
            "STARTING TURN 2\n",
            "---------------\n",
            "\n",
            "200 POST /v1beta/models/gemini-pro-vision:generateContent?%24alt=json%3Benum-encoding%3Dint (127.0.0.1) 6196.41ms\n",
            "INFO:httpx:HTTP Request: POST https://api.openai.com/v1/chat/completions \"HTTP/1.1 200 OK\"\n",
            "HTTP Request: POST https://api.openai.com/v1/chat/completions \"HTTP/1.1 200 OK\"\n",
            "Assistant: The drawing you've shared seems to depict a person sitting with their knees drawn up to their chest, arms crossed, and eyes looking down. This posture and expression often suggest feelings of sadness or loneliness. Does this interpretation resonate with how you're feeling right now?\n",
            "\n",
            "Human: yes\n",
            "STARTING TURN 1\n",
            "---------------\n",
            "\n",
            "INFO:httpx:HTTP Request: POST https://api.openai.com/v1/chat/completions \"HTTP/1.1 200 OK\"\n",
            "HTTP Request: POST https://api.openai.com/v1/chat/completions \"HTTP/1.1 200 OK\"\n",
            "=== Calling Function ===\n",
            "Calling function: mindfulness_TB_50 with args: {\"input\":\"What are some mindfulness practices for dealing with feelings of sadness or loneliness?\"}\n",
            "INFO:httpx:HTTP Request: POST https://api.openai.com/v1/embeddings \"HTTP/1.1 200 OK\"\n",
            "HTTP Request: POST https://api.openai.com/v1/embeddings \"HTTP/1.1 200 OK\"\n",
            "INFO:httpx:HTTP Request: POST https://api.openai.com/v1/chat/completions \"HTTP/1.1 200 OK\"\n",
            "HTTP Request: POST https://api.openai.com/v1/chat/completions \"HTTP/1.1 200 OK\"\n",
            "Got output: One mindfulness practice for dealing with feelings of sadness or loneliness is the loving-kindness meditation. This practice involves cultivating feelings of love, kindness, and compassion towards oneself and others. It can be done by silently repeating phrases such as \"May I be happy, may I be safe, may I be healthy, may I live with ease\" while focusing on the breath. Another practice mentioned in the context is meditating on benefactors, visualizing and connecting with those who care about us. These practices can help alleviate feelings of isolation and provide a sense of support and connection.\n",
            "========================\n",
            "\n",
            "STARTING TURN 2\n",
            "---------------\n",
            "\n",
            "INFO:httpx:HTTP Request: POST https://api.openai.com/v1/chat/completions \"HTTP/1.1 200 OK\"\n",
            "HTTP Request: POST https://api.openai.com/v1/chat/completions \"HTTP/1.1 200 OK\"\n",
            "Assistant: Since you're experiencing feelings of sadness or loneliness, a loving-kindness meditation could be very beneficial for you. This meditation encourages you to cultivate feelings of love, kindness, and compassion towards yourself and others. Here's a simple routine you can try:\n",
            "\n",
            "1. Find a quiet and comfortable place to sit or lie down.\n",
            "2. Close your eyes and take a few deep breaths to center yourself.\n",
            "3. Begin to silently repeat phrases of goodwill and kindness to yourself, such as:\n",
            "   - \"May I be happy.\"\n",
            "   - \"May I be safe.\"\n",
            "   - \"May I be healthy.\"\n",
            "   - \"May I live with ease.\"\n",
            "4. As you repeat these phrases, imagine a sense of warmth and compassion filling your body with each breath.\n",
            "5. After a few minutes, you can extend these wishes to others, starting with someone you feel grateful for or who has been kind to you (a benefactor), and then gradually to others in your life, and even to all beings everywhere.\n",
            "\n",
            "This practice can help to soften feelings of loneliness and create a sense of connection to others. Would you like to try this meditation, or is there another way I can support you?\n",
            "\n",
            "Human: can you tell me how to deal with feelings of anger toward my child?\n",
            "STARTING TURN 1\n",
            "---------------\n",
            "\n",
            "INFO:httpx:HTTP Request: POST https://api.openai.com/v1/chat/completions \"HTTP/1.1 200 OK\"\n",
            "HTTP Request: POST https://api.openai.com/v1/chat/completions \"HTTP/1.1 200 OK\"\n",
            "=== Calling Function ===\n",
            "Calling function: challenging_child with args: {\"input\":\"How can I deal with feelings of anger toward my child?\"}\n",
            "INFO:httpx:HTTP Request: POST https://api.openai.com/v1/embeddings \"HTTP/1.1 200 OK\"\n",
            "HTTP Request: POST https://api.openai.com/v1/embeddings \"HTTP/1.1 200 OK\"\n",
            "INFO:httpx:HTTP Request: POST https://api.openai.com/v1/chat/completions \"HTTP/1.1 200 OK\"\n",
            "HTTP Request: POST https://api.openai.com/v1/chat/completions \"HTTP/1.1 200 OK\"\n",
            "Got output: One way to deal with feelings of anger toward your child is to take a \"one down\" position in moments of tension and conflict. This involves reviewing your history with your child and honestly assessing your reactions. If you are not satisfied with your reactions, make a commitment to catch yourself and improve your relationship with your child. When you feel a surge of anger, take some space to allow your emotions to subside. Then, return to your child and talk to them about the last interaction, expressing that you felt badly about something. This approach can spark curiosity and open up a dialogue with your child.\n",
            "========================\n",
            "\n",
            "STARTING TURN 2\n",
            "---------------\n",
            "\n",
            "INFO:httpx:HTTP Request: POST https://api.openai.com/v1/chat/completions \"HTTP/1.1 200 OK\"\n",
            "HTTP Request: POST https://api.openai.com/v1/chat/completions \"HTTP/1.1 200 OK\"\n",
            "Assistant: When dealing with feelings of anger towards your child, it's important to approach the situation with mindfulness and compassion, both for yourself and your child. Here's a mindfulness routine you can try:\n",
            "\n",
            "1. Recognize and acknowledge your anger without judgment. Understand that it's a natural emotion but doesn't have to dictate your actions.\n",
            "2. Take a \"one down\" position during moments of tension. This means stepping back to assess the situation calmly rather than reacting impulsively.\n",
            "3. Review your history with your child and your reactions to past conflicts. Reflect on whether these reactions were helpful or if there's room for improvement.\n",
            "4. Commit to catching yourself before reacting in anger. When you feel anger rising, give yourself permission to take a break and step away from the situation.\n",
            "5. Use this space to breathe deeply and allow your emotions to subside. You might count to ten, practice deep breathing, or visualize a calming scene.\n",
            "6. Once you feel calmer, return to your child and open a dialogue about the interaction. Share your feelings honestly but gently, and express regret if your previous reaction was harsh.\n",
            "7. Use this as an opportunity to understand your child's perspective and work together to find a solution or compromise.\n",
            "\n",
            "Remember, the goal is to build a stronger, more understanding relationship with your child. Would you like to explore this approach further, or do you need additional support?\n",
            "\n",
            "Human: Can you help me with anxiety that my partner will leave me?\n",
            "STARTING TURN 1\n",
            "---------------\n",
            "\n",
            "INFO:httpx:HTTP Request: POST https://api.openai.com/v1/chat/completions \"HTTP/1.1 200 OK\"\n",
            "HTTP Request: POST https://api.openai.com/v1/chat/completions \"HTTP/1.1 200 OK\"\n",
            "=== Calling Function ===\n",
            "Calling function: mindfulness_TB_relationships with args: {\"input\":\"How can I cope with anxiety about my partner leaving me?\"}\n",
            "INFO:httpx:HTTP Request: POST https://api.openai.com/v1/embeddings \"HTTP/1.1 200 OK\"\n",
            "HTTP Request: POST https://api.openai.com/v1/embeddings \"HTTP/1.1 200 OK\"\n",
            "INFO:httpx:HTTP Request: POST https://api.openai.com/v1/chat/completions \"HTTP/1.1 200 OK\"\n",
            "HTTP Request: POST https://api.openai.com/v1/chat/completions \"HTTP/1.1 200 OK\"\n",
            "Got output: One way to cope with anxiety about your partner leaving you is to establish leaving and entering rituals in your relationship. These rituals can help reduce anxiety and promote closeness. For example, when your partner leaves or returns home, you can engage in small ritual behaviors such as giving a big smile, a hug, or asking about their day. These rituals can help create a sense of safety, welcome, and inclusion. Additionally, it may be helpful to explore what rituals are already in place for coming and going in your relationship and to have open communication with your partner about your feelings and concerns.\n",
            "========================\n",
            "\n",
            "STARTING TURN 2\n",
            "---------------\n",
            "\n",
            "INFO:httpx:HTTP Request: POST https://api.openai.com/v1/chat/completions \"HTTP/1.1 200 OK\"\n",
            "HTTP Request: POST https://api.openai.com/v1/chat/completions \"HTTP/1.1 200 OK\"\n",
            "Assistant: Anxiety about your partner potentially leaving can be challenging to manage, but establishing leaving and entering rituals in your relationship can help create a sense of security and closeness. Here's how you can implement this:\n",
            "\n",
            "1. Discuss with your partner the idea of creating small, meaningful rituals for when one of you leaves or returns home.\n",
            "2. Choose actions that feel natural and comforting to both of you. This could be a warm hug, a kiss, a specific phrase like \"Have a great day!\" or \"Welcome back!\", or even a special handshake.\n",
            "3. Make these rituals consistent. Consistency can foster a sense of predictability and safety in your relationship.\n",
            "4. When your partner leaves, use the ritual to express love and care, and when they return, use it to show you're happy to see them and that they're welcomed.\n",
            "5. Reflect on any rituals you may already have and consider how they impact your feelings of anxiety. Enhance those that are positive and adjust any that may not be serving you well.\n",
            "6. Openly communicate with your partner about your feelings of anxiety. Sharing your concerns can help your partner understand your needs and work with you to alleviate your worries.\n",
            "\n",
            "Remember, the goal of these rituals is to strengthen your bond and provide reassurance. Would you like to try establishing these rituals, or is there another way I can assist you with your anxiety?\n",
            "\n"
          ]
        }
      ]
    },
    {
      "cell_type": "markdown",
      "source": [
        "## TODO:"
      ],
      "metadata": {
        "id": "bkc8wX4h_RMy"
      }
    },
    {
      "cell_type": "markdown",
      "source": [
        "### Reset Agent State"
      ],
      "metadata": {
        "id": "v5ThlCEJGVJr"
      }
    },
    {
      "cell_type": "code",
      "source": [
        "# agent.reset()"
      ],
      "metadata": {
        "id": "dlsyjDjIGX8V"
      },
      "execution_count": null,
      "outputs": []
    },
    {
      "cell_type": "code",
      "source": [
        "# response = agent.chat_repl()"
      ],
      "metadata": {
        "id": "gCKcWi2lGb7g"
      },
      "execution_count": null,
      "outputs": []
    },
    {
      "cell_type": "markdown",
      "source": [
        "### 2nd Session (Returning User)"
      ],
      "metadata": {
        "id": "K5cQa1zFGiZT"
      }
    },
    {
      "cell_type": "markdown",
      "source": [
        "Specify chat history with a summary of our last session or sessions.  This would need to be queried from our session history."
      ],
      "metadata": {
        "id": "oKZZKYYDGq3Y"
      }
    },
    {
      "cell_type": "code",
      "source": [
        "# response = agent.chat_repl()"
      ],
      "metadata": {
        "id": "Qp8s1r2jGpYj"
      },
      "execution_count": null,
      "outputs": []
    }
  ]
}